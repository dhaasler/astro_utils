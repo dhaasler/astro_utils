{
 "cells": [
  {
   "attachments": {},
   "cell_type": "markdown",
   "metadata": {},
   "source": [
    "# Species identification\n",
    "\n",
    "This notebook allows the user to display small windows around the emission lines of a molecular species to confirm the presence of the species in a spectrum data file. An optional telescope information file can be selected to convert antenna temperature to main beam temperature. This has been tested with Yebes 40m data, other telescopes may need additional code adjustments to correctly read telescope information.\n",
    "\n",
    "* Press q to go to the next line\n",
    "\n",
    "This notebook uses tables taken from splatalogue in .tsv format. Input variables can be modified to select different parts of the spectrum and range in MHz of the window."
   ]
  },
  {
   "attachments": {},
   "cell_type": "markdown",
   "metadata": {},
   "source": [
    "User input:"
   ]
  },
  {
   "cell_type": "code",
   "execution_count": null,
   "metadata": {},
   "outputs": [],
   "source": [
    "# Data files\n",
    "spectrum_file = \"/home/david/Documents/MasterAstro/practicas-master/Data/G10-47_all_reduced.fits\"\n",
    "telescope_info_file = \"/home/david/Documents/MasterAstro/practicas-master/Data/Yebes_40m_W_band.csv\"\n",
    "molecule_file = \"/home/david/Documents/MasterAstro/practicas-master/Data/Molecule_lines/H2NCH2CN.tsv\"\n",
    "# Use main beam temperature or antenna temperature\n",
    "use_TMB = True\n",
    "# Input parameters\n",
    "zoom_range = (-15, 20)  # in MHz"
   ]
  },
  {
   "attachments": {},
   "cell_type": "markdown",
   "metadata": {},
   "source": [
    "Import libraries."
   ]
  },
  {
   "cell_type": "code",
   "execution_count": null,
   "metadata": {},
   "outputs": [],
   "source": [
    "import astropy.constants as const\n",
    "from astropy.io import fits\n",
    "from astropy.nddata import CCDData\n",
    "from astropy.stats import sigma_clipped_stats\n",
    "from astropy.table import Table, QTable\n",
    "import astropy.units as u\n",
    "from astropy.wcs import WCS\n",
    "import matplotlib as mpl\n",
    "import matplotlib.axes as maxes\n",
    "import matplotlib.patches as patches\n",
    "import matplotlib.patheffects as PathEffects\n",
    "import matplotlib.pyplot as plt\n",
    "from matplotlib.ticker import (MultipleLocator, AutoMinorLocator)\n",
    "from mpl_toolkits.axes_grid1 import make_axes_locatable\n",
    "import numpy as np\n",
    "import numpy.ma as ma\n",
    "from pathlib import Path\n",
    "import scipy.interpolate\n",
    "\n",
    "from prac_utils import find_nearest_idx\n",
    "from prac_utils import x2freq"
   ]
  },
  {
   "attachments": {},
   "cell_type": "markdown",
   "metadata": {},
   "source": [
    "Read the spectrum data file and beam efficiency from telescope info."
   ]
  },
  {
   "cell_type": "code",
   "execution_count": null,
   "metadata": {},
   "outputs": [],
   "source": [
    "# Read full spectra\n",
    "ccd = CCDData.read(spectrum_file)\n",
    "\n",
    "# Read telescope data obtained from its webpage\n",
    "if use_TMB:\n",
    "    telescope_info = QTable.read(telescope_info_file, format='ascii')\n",
    "    telescope_info['freq'] = telescope_info['freq'] * 1e3 * u.MHz\n",
    "    telescope_info['lambda'].unit = u.mm\n",
    "    telescope_info['theta'].unit = u.arcsec\n",
    "    telescope_info['Jy/K'].unit = u.Jy / u.K"
   ]
  },
  {
   "attachments": {},
   "cell_type": "markdown",
   "metadata": {},
   "source": [
    "Create interpolation data of the telescope."
   ]
  },
  {
   "cell_type": "code",
   "execution_count": null,
   "metadata": {},
   "outputs": [],
   "source": [
    "# Create interpolation and extrapolation for the beam efficiency\n",
    "\n",
    "if use_TMB:\n",
    "    pol = 'V'\n",
    "    x = telescope_info['freq'][telescope_info['polarization']==pol]\n",
    "    y = telescope_info['eta_MB'][telescope_info['polarization']==pol]\n",
    "    interp_band_W = scipy.interpolate.interp1d(x, y, fill_value='extrapolate')"
   ]
  },
  {
   "attachments": {},
   "cell_type": "markdown",
   "metadata": {},
   "source": [
    "Use tkinter backend for matplotlib"
   ]
  },
  {
   "cell_type": "code",
   "execution_count": null,
   "metadata": {},
   "outputs": [],
   "source": [
    "# Use this instead of \"%matplotlib tk\" to show a window only after the previous one is closed\n",
    "mpl.use('TkAgg')"
   ]
  },
  {
   "attachments": {},
   "cell_type": "markdown",
   "metadata": {},
   "source": [
    "Read molecule data from table"
   ]
  },
  {
   "cell_type": "code",
   "execution_count": null,
   "metadata": {},
   "outputs": [],
   "source": [
    "input_lines = Table.read(molecule_file, format='ascii', delimiter='\\t')\n",
    "# this creates one single vector from data from the two freq columns\n",
    "first = input_lines['Freq-MHz(rest frame,redshifted)']\n",
    "second = input_lines['Meas Freq-MHz(rest frame,redshifted)']\n",
    "molecule_line_freqs = np.zeros(len(first))\n",
    "for i in range(0, len(first)):\n",
    "    if ma.is_masked(first[i]):\n",
    "        molecule_line_freqs[i] = second[i]\n",
    "    else:\n",
    "        molecule_line_freqs[i] = first[i]\n",
    "molecule_line_QNs = input_lines['Resolved QNs']\n",
    "molecule_line_E_Ls = input_lines['E_L (K)']\n",
    "molecule_line_intensities = input_lines['CDMS/JPL Intensity']\n",
    "molecule_line_catalogues = input_lines['Linelist']"
   ]
  },
  {
   "attachments": {},
   "cell_type": "markdown",
   "metadata": {},
   "source": [
    "Show line information."
   ]
  },
  {
   "cell_type": "code",
   "execution_count": null,
   "metadata": {},
   "outputs": [],
   "source": [
    "y_axis = ccd.data[0, 0, 0, :]    # need to check slicing in header\n",
    "freq_axis = x2freq(ccd=ccd) * 1e-6    # convert to MHz\n",
    "if ccd.header['BUNIT'] == 'K':\n",
    "    if use_TMB:\n",
    "        etas = interp_band_W(freq_axis)\n",
    "        T_beam = y_axis / etas\n",
    "        y = T_beam\n",
    "    else:\n",
    "        y = y_axis\n",
    "else:\n",
    "    y = y_axis\n",
    "freq_axis = x2freq(ccd=ccd) * 1e-6    # convert to MHz\n",
    "\n",
    "# Main loop\n",
    "for i in range(len(molecule_line_freqs)):\n",
    "\n",
    "    fig, ax, = plt.subplots()\n",
    "    ax.plot(freq_axis, y)\n",
    "\n",
    "    # set figure x limits\n",
    "    xlim = (molecule_line_freqs[i]+zoom_range[0], molecule_line_freqs[i]+zoom_range[1])\n",
    "    ax.set_xlim(xlim)\n",
    "    # set figure y limits\n",
    "    center_idx = find_nearest_idx(freq_axis, molecule_line_freqs[i])    # paso valores de freq a Hz\n",
    "    min_idx = find_nearest_idx(freq_axis, xlim[0])\n",
    "    max_idx = find_nearest_idx(freq_axis, xlim[1])\n",
    "    min_y = min(y[min_idx:max_idx])\n",
    "    max_y = max(y[min_idx:max_idx])\n",
    "    ylim = (min_y - 0.15*(max_y-min_y), max_y + 0.2*(max_y-min_y))\n",
    "    ax.set_ylim(ylim)\n",
    "\n",
    "    # figure design\n",
    "    ax.set_xlabel('Freq (MHz)')\n",
    "    if ccd.header['BUNIT'] == 'K':\n",
    "        if use_TMB:\n",
    "            ax.set_ylabel(r'$T_{\\rm MB}$ (K)')\n",
    "        else:\n",
    "            ax.set_ylabel(r'$T_{\\rm A}^{*}$ (K)')\n",
    "    else:\n",
    "        ax.set_ylabel('Y axis')\n",
    "\n",
    "    # print text in screen about the line\n",
    "    ax.axvline(molecule_line_freqs[i], color='C3')\n",
    "    separation = 0.03*(ax.get_xlim()[1]-ax.get_xlim()[0])\n",
    "    ax.text(molecule_line_freqs[i]-separation, ylim[0]+0.96*(ylim[1]-ylim[0]), f'Catalogue: {molecule_line_catalogues[i]}', transform=ax.transData, fontsize=9,\n",
    "                    color='black', rotation='horizontal', horizontalalignment='right', verticalalignment='center')\n",
    "    ax.text(molecule_line_freqs[i]+separation, ylim[0]+0.96*(ylim[1]-ylim[0]), f'QNs: {molecule_line_QNs[i]}', transform=ax.transData, fontsize=9,\n",
    "                    color='C1', rotation='horizontal', horizontalalignment='left', verticalalignment='center')\n",
    "    ax.text(molecule_line_freqs[i]+separation, ylim[0]+0.91*(ylim[1]-ylim[0]), r'$E_{\\rm low}$ = %s K' %(round(molecule_line_E_Ls[i], 3)), transform=ax.transData, fontsize=9,\n",
    "                    color='C2', rotation='horizontal', horizontalalignment='left', verticalalignment='center')\n",
    "    ax.text(molecule_line_freqs[i]-separation, ylim[0]+0.91*(ylim[1]-ylim[0]), r'$I$ = %s' %(round(molecule_line_intensities[i], 3)), transform=ax.transData, fontsize=9,\n",
    "                    color='C3', rotation='horizontal', horizontalalignment='right', verticalalignment='center')\n",
    "    plt.show()"
   ]
  }
 ],
 "metadata": {
  "kernelspec": {
   "display_name": "Python 3",
   "language": "python",
   "name": "python3"
  },
  "language_info": {
   "codemirror_mode": {
    "name": "ipython",
    "version": 3
   },
   "file_extension": ".py",
   "mimetype": "text/x-python",
   "name": "python",
   "nbconvert_exporter": "python",
   "pygments_lexer": "ipython3",
   "version": "3.11.3"
  },
  "orig_nbformat": 4,
  "vscode": {
   "interpreter": {
    "hash": "e7370f93d1d0cde622a1f8e1c04877d8463912d04d973331ad4851f04de6915a"
   }
  }
 },
 "nbformat": 4,
 "nbformat_minor": 2
}
