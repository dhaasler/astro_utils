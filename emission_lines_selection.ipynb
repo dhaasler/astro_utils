{
 "cells": [
  {
   "attachments": {},
   "cell_type": "markdown",
   "metadata": {},
   "source": [
    "# Spectral line selection\n",
    "\n",
    "This notebook allows the user to display small windows of a spectrum datafile to select with mouse clicks the observed spectral lines. The notebook stores the frequency and corresponding Y-axis value of the peak in an output .csv file.\n",
    "An optional telescope information file can be selected to convert antenna temperature to main beam temperature. This has been tested with Yebes 40m data, other telescopes may need additional code adjustments to correctly read telescope information.\n",
    "\n",
    "* Left mouse button to select points\n",
    "* Middle mouse buttom to delete previous point\n",
    "* Right mouse button to go to the next window\n",
    "\n",
    "Input variables can be modified to select different parts of the spectrum and range in MHz of the window."
   ]
  },
  {
   "attachments": {},
   "cell_type": "markdown",
   "metadata": {},
   "source": [
    "User input:"
   ]
  },
  {
   "cell_type": "code",
   "execution_count": null,
   "metadata": {},
   "outputs": [],
   "source": [
    "# Data files\n",
    "spectrum_file = \"/home/david/Documents/MasterAstro/practicas-master/Data/G10-47_all_reduced.fits\"\n",
    "telescope_info_file = \"/home/david/Documents/MasterAstro/practicas-master/Data/Yebes_40m_W_band.csv\"\n",
    "# Use main beam temperature or antenna temperature\n",
    "use_TMB = True\n",
    "# Input parameters\n",
    "freq_start = 85990\n",
    "freq_stop = 86500\n",
    "window_size = 30    # in MHz\n",
    "# Output file\n",
    "output_file_name = \"selected_lines.csv\""
   ]
  },
  {
   "attachments": {},
   "cell_type": "markdown",
   "metadata": {},
   "source": [
    "Import libraries."
   ]
  },
  {
   "cell_type": "code",
   "execution_count": null,
   "metadata": {},
   "outputs": [],
   "source": [
    "# Import libraries\n",
    "\n",
    "import astropy.constants as const\n",
    "from astropy.io import fits\n",
    "from astropy.nddata import CCDData\n",
    "from astropy.stats import sigma_clipped_stats\n",
    "from astropy.table import Table, QTable\n",
    "import astropy.units as u\n",
    "from astropy.wcs import WCS\n",
    "import matplotlib as mpl\n",
    "import matplotlib.axes as maxes\n",
    "import matplotlib.patches as patches\n",
    "import matplotlib.patheffects as PathEffects\n",
    "import matplotlib.pyplot as plt\n",
    "from matplotlib.ticker import (MultipleLocator, AutoMinorLocator)\n",
    "from mpl_toolkits.axes_grid1 import make_axes_locatable\n",
    "import numpy as np\n",
    "from pathlib import Path\n",
    "import scipy.interpolate\n",
    "\n",
    "from prac_utils import find_nearest_idx\n",
    "from prac_utils import x2freq\n"
   ]
  },
  {
   "attachments": {},
   "cell_type": "markdown",
   "metadata": {},
   "source": [
    "Read the spectrum data file and beam efficiency from telescope info"
   ]
  },
  {
   "cell_type": "code",
   "execution_count": null,
   "metadata": {},
   "outputs": [],
   "source": [
    "# Read full spectra\n",
    "ccd = CCDData.read(spectrum_file)\n",
    "\n",
    "# Read telescope data obtained from its webpage\n",
    "if use_TMB:\n",
    "    telescope_info = QTable.read(telescope_info_file, format='ascii')\n",
    "    telescope_info['freq'] = telescope_info['freq'] * 1e3 * u.MHz\n",
    "    telescope_info['lambda'].unit = u.mm\n",
    "    telescope_info['theta'].unit = u.arcsec\n",
    "    telescope_info['Jy/K'].unit = u.Jy / u.K"
   ]
  },
  {
   "attachments": {},
   "cell_type": "markdown",
   "metadata": {},
   "source": [
    "Create interpolation data of the telescope."
   ]
  },
  {
   "cell_type": "code",
   "execution_count": null,
   "metadata": {},
   "outputs": [],
   "source": [
    "# Create interpolation and extrapolation for the beam efficiency\n",
    "\n",
    "if use_TMB:\n",
    "    pol = 'V'\n",
    "    x = telescope_info['freq'][telescope_info['polarization']==pol]\n",
    "    y = telescope_info['eta_MB'][telescope_info['polarization']==pol]\n",
    "    interp_band_W = scipy.interpolate.interp1d(x, y, fill_value='extrapolate')"
   ]
  },
  {
   "attachments": {},
   "cell_type": "markdown",
   "metadata": {},
   "source": [
    "Use tkinter backend for matplotlib"
   ]
  },
  {
   "cell_type": "code",
   "execution_count": null,
   "metadata": {},
   "outputs": [],
   "source": [
    "%matplotlib tk"
   ]
  },
  {
   "attachments": {},
   "cell_type": "markdown",
   "metadata": {},
   "source": [
    "In the next cellblock:\n",
    "* yroi is a list with one tuple inside\n",
    "* yrois is a list of tuples"
   ]
  },
  {
   "cell_type": "code",
   "execution_count": null,
   "metadata": {},
   "outputs": [],
   "source": [
    "# Data\n",
    "y_axis = ccd.data[0, 0, 0, :]    # need to check slicing in header\n",
    "freq_axis = x2freq(ccd=ccd) * 1e-6    # convert to MHz\n",
    "if ccd.header['BUNIT'] == 'K':\n",
    "    if use_TMB:\n",
    "        etas = interp_band_W(freq_axis)\n",
    "        T_beam = y_axis / etas\n",
    "        y = T_beam\n",
    "    else:\n",
    "        y = y_axis\n",
    "else:\n",
    "    y = y_axis\n",
    "freq_windows = np.arange(freq_start, freq_stop, window_size)\n",
    "\n",
    "# Main loop\n",
    "yrois = np.array([])\n",
    "for i in range(len(freq_windows)):\n",
    "    fig, ax, = plt.subplots()\n",
    "    ax.plot(freq_axis, y)\n",
    "\n",
    "    # set figure x limits\n",
    "    xlim = (freq_windows[i], freq_windows[i]+30)\n",
    "    ax.set_xlim(xlim)\n",
    "    # set figure y limits\n",
    "    min_idx = find_nearest_idx(freq_axis, xlim[0])\n",
    "    max_idx = find_nearest_idx(freq_axis, xlim[1])\n",
    "    min_y = min(y[min_idx:max_idx])\n",
    "    max_y = max(y[min_idx:max_idx])\n",
    "    ylim = (min_y - 0.15*(max_y-min_y), max_y + 0.2*(max_y-min_y))\n",
    "    ax.set_ylim(ylim)\n",
    "\n",
    "    # figure design\n",
    "    ax.set_xlabel('Freq (MHz)')\n",
    "    if ccd.header['BUNIT'] == 'K':\n",
    "        if use_TMB:\n",
    "            ax.set_ylabel(r'$T_{\\rm MB}$ (K)')\n",
    "        else:\n",
    "            ax.set_ylabel(r'$T_{\\rm A}^{*}$ (K)')\n",
    "    else:\n",
    "        ax.set_ylabel('Y axis')\n",
    "    #plt.show()\n",
    "    yroi = plt.ginput(n=0,timeout=0, mouse_add=1, mouse_pop=2, mouse_stop=3)\n",
    "    if yroi != []:\n",
    "        yrois = np.append(yrois, yroi)\n",
    "\n",
    "    plt.close()"
   ]
  },
  {
   "attachments": {},
   "cell_type": "markdown",
   "metadata": {},
   "source": [
    "Save the data in a table"
   ]
  },
  {
   "cell_type": "code",
   "execution_count": null,
   "metadata": {},
   "outputs": [],
   "source": [
    "line_clicks = np.reshape(yrois, [int(len(yrois)/2), 2])    # separate each click in its own dimension\n",
    "line_points = np.transpose(line_clicks)    # transpose to hace two dimensions: freqs and T_antenna\n",
    "selected_lines = Table(data=[line_points[0], line_points[1]], names=['Freq(MHz)', 'T_Beam(K)'])\n",
    "selected_lines.write(output_file_name, overwrite=True)\n",
    "selected_lines"
   ]
  }
 ],
 "metadata": {
  "kernelspec": {
   "display_name": "Python 3",
   "language": "python",
   "name": "python3"
  },
  "language_info": {
   "codemirror_mode": {
    "name": "ipython",
    "version": 3
   },
   "file_extension": ".py",
   "mimetype": "text/x-python",
   "name": "python",
   "nbconvert_exporter": "python",
   "pygments_lexer": "ipython3",
   "version": "3.11.3"
  },
  "orig_nbformat": 4,
  "vscode": {
   "interpreter": {
    "hash": "e7370f93d1d0cde622a1f8e1c04877d8463912d04d973331ad4851f04de6915a"
   }
  }
 },
 "nbformat": 4,
 "nbformat_minor": 2
}
